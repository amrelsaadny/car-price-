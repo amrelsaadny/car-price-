{
 "cells": [
  {
   "cell_type": "code",
   "execution_count": 1,
   "id": "1ec95d5b",
   "metadata": {},
   "outputs": [],
   "source": [
    "import numpy as np\n",
    "import pandas as pd\n",
    "import matplotlib.pyplot as plt\n",
    "import seaborn as sns"
   ]
  },
  {
   "cell_type": "code",
   "execution_count": 2,
   "id": "66b0d3ec",
   "metadata": {},
   "outputs": [],
   "source": [
    "df=pd.read_csv(\"car data.csv\")"
   ]
  },
  {
   "cell_type": "code",
   "execution_count": 3,
   "id": "e14af716",
   "metadata": {},
   "outputs": [
    {
     "data": {
      "text/html": [
       "<div>\n",
       "<style scoped>\n",
       "    .dataframe tbody tr th:only-of-type {\n",
       "        vertical-align: middle;\n",
       "    }\n",
       "\n",
       "    .dataframe tbody tr th {\n",
       "        vertical-align: top;\n",
       "    }\n",
       "\n",
       "    .dataframe thead th {\n",
       "        text-align: right;\n",
       "    }\n",
       "</style>\n",
       "<table border=\"1\" class=\"dataframe\">\n",
       "  <thead>\n",
       "    <tr style=\"text-align: right;\">\n",
       "      <th></th>\n",
       "      <th>Car_Name</th>\n",
       "      <th>Year</th>\n",
       "      <th>Selling_Price</th>\n",
       "      <th>Present_Price</th>\n",
       "      <th>Kms_Driven</th>\n",
       "      <th>Fuel_Type</th>\n",
       "      <th>Seller_Type</th>\n",
       "      <th>Transmission</th>\n",
       "      <th>Owner</th>\n",
       "    </tr>\n",
       "  </thead>\n",
       "  <tbody>\n",
       "    <tr>\n",
       "      <th>0</th>\n",
       "      <td>ritz</td>\n",
       "      <td>2014</td>\n",
       "      <td>3.35</td>\n",
       "      <td>5.59</td>\n",
       "      <td>27000</td>\n",
       "      <td>Petrol</td>\n",
       "      <td>Dealer</td>\n",
       "      <td>Manual</td>\n",
       "      <td>0</td>\n",
       "    </tr>\n",
       "    <tr>\n",
       "      <th>1</th>\n",
       "      <td>sx4</td>\n",
       "      <td>2013</td>\n",
       "      <td>4.75</td>\n",
       "      <td>9.54</td>\n",
       "      <td>43000</td>\n",
       "      <td>Diesel</td>\n",
       "      <td>Dealer</td>\n",
       "      <td>Manual</td>\n",
       "      <td>0</td>\n",
       "    </tr>\n",
       "    <tr>\n",
       "      <th>2</th>\n",
       "      <td>ciaz</td>\n",
       "      <td>2017</td>\n",
       "      <td>7.25</td>\n",
       "      <td>9.85</td>\n",
       "      <td>6900</td>\n",
       "      <td>Petrol</td>\n",
       "      <td>Dealer</td>\n",
       "      <td>Manual</td>\n",
       "      <td>0</td>\n",
       "    </tr>\n",
       "    <tr>\n",
       "      <th>3</th>\n",
       "      <td>wagon r</td>\n",
       "      <td>2011</td>\n",
       "      <td>2.85</td>\n",
       "      <td>4.15</td>\n",
       "      <td>5200</td>\n",
       "      <td>Petrol</td>\n",
       "      <td>Dealer</td>\n",
       "      <td>Manual</td>\n",
       "      <td>0</td>\n",
       "    </tr>\n",
       "    <tr>\n",
       "      <th>4</th>\n",
       "      <td>swift</td>\n",
       "      <td>2014</td>\n",
       "      <td>4.60</td>\n",
       "      <td>6.87</td>\n",
       "      <td>42450</td>\n",
       "      <td>Diesel</td>\n",
       "      <td>Dealer</td>\n",
       "      <td>Manual</td>\n",
       "      <td>0</td>\n",
       "    </tr>\n",
       "  </tbody>\n",
       "</table>\n",
       "</div>"
      ],
      "text/plain": [
       "  Car_Name  Year  Selling_Price  Present_Price  Kms_Driven Fuel_Type  \\\n",
       "0     ritz  2014           3.35           5.59       27000    Petrol   \n",
       "1      sx4  2013           4.75           9.54       43000    Diesel   \n",
       "2     ciaz  2017           7.25           9.85        6900    Petrol   \n",
       "3  wagon r  2011           2.85           4.15        5200    Petrol   \n",
       "4    swift  2014           4.60           6.87       42450    Diesel   \n",
       "\n",
       "  Seller_Type Transmission  Owner  \n",
       "0      Dealer       Manual      0  \n",
       "1      Dealer       Manual      0  \n",
       "2      Dealer       Manual      0  \n",
       "3      Dealer       Manual      0  \n",
       "4      Dealer       Manual      0  "
      ]
     },
     "execution_count": 3,
     "metadata": {},
     "output_type": "execute_result"
    }
   ],
   "source": [
    "df.head()"
   ]
  },
  {
   "cell_type": "code",
   "execution_count": 4,
   "id": "b1c9e9f6",
   "metadata": {},
   "outputs": [
    {
     "data": {
      "text/plain": [
       "(301, 9)"
      ]
     },
     "execution_count": 4,
     "metadata": {},
     "output_type": "execute_result"
    }
   ],
   "source": [
    "df.shape"
   ]
  },
  {
   "cell_type": "code",
   "execution_count": 5,
   "id": "dd99b53d",
   "metadata": {},
   "outputs": [
    {
     "data": {
      "text/plain": [
       "Index(['Car_Name', 'Year', 'Selling_Price', 'Present_Price', 'Kms_Driven',\n",
       "       'Fuel_Type', 'Seller_Type', 'Transmission', 'Owner'],\n",
       "      dtype='object')"
      ]
     },
     "execution_count": 5,
     "metadata": {},
     "output_type": "execute_result"
    }
   ],
   "source": [
    "df.columns"
   ]
  },
  {
   "cell_type": "code",
   "execution_count": 6,
   "id": "8498f3c8",
   "metadata": {},
   "outputs": [
    {
     "data": {
      "text/plain": [
       "2"
      ]
     },
     "execution_count": 6,
     "metadata": {},
     "output_type": "execute_result"
    }
   ],
   "source": [
    "df.duplicated().sum()"
   ]
  },
  {
   "cell_type": "code",
   "execution_count": 7,
   "id": "bf162ccc",
   "metadata": {},
   "outputs": [],
   "source": [
    "df.drop_duplicates(inplace=True)"
   ]
  },
  {
   "cell_type": "code",
   "execution_count": 8,
   "id": "3018e80c",
   "metadata": {},
   "outputs": [],
   "source": [
    "df.reset_index(inplace=True,drop=True)"
   ]
  },
  {
   "cell_type": "code",
   "execution_count": 9,
   "id": "3252e6cf",
   "metadata": {},
   "outputs": [
    {
     "data": {
      "text/plain": [
       "0"
      ]
     },
     "execution_count": 9,
     "metadata": {},
     "output_type": "execute_result"
    }
   ],
   "source": [
    "df.duplicated().sum()"
   ]
  },
  {
   "cell_type": "code",
   "execution_count": 10,
   "id": "1cfc8cbc",
   "metadata": {},
   "outputs": [
    {
     "name": "stdout",
     "output_type": "stream",
     "text": [
      "<class 'pandas.core.frame.DataFrame'>\n",
      "RangeIndex: 299 entries, 0 to 298\n",
      "Data columns (total 9 columns):\n",
      " #   Column         Non-Null Count  Dtype  \n",
      "---  ------         --------------  -----  \n",
      " 0   Car_Name       299 non-null    object \n",
      " 1   Year           299 non-null    int64  \n",
      " 2   Selling_Price  299 non-null    float64\n",
      " 3   Present_Price  299 non-null    float64\n",
      " 4   Kms_Driven     299 non-null    int64  \n",
      " 5   Fuel_Type      299 non-null    object \n",
      " 6   Seller_Type    299 non-null    object \n",
      " 7   Transmission   299 non-null    object \n",
      " 8   Owner          299 non-null    int64  \n",
      "dtypes: float64(2), int64(3), object(4)\n",
      "memory usage: 21.1+ KB\n"
     ]
    }
   ],
   "source": [
    "df.info()"
   ]
  },
  {
   "cell_type": "code",
   "execution_count": 11,
   "id": "2eaa94bc",
   "metadata": {},
   "outputs": [
    {
     "data": {
      "text/html": [
       "<div>\n",
       "<style scoped>\n",
       "    .dataframe tbody tr th:only-of-type {\n",
       "        vertical-align: middle;\n",
       "    }\n",
       "\n",
       "    .dataframe tbody tr th {\n",
       "        vertical-align: top;\n",
       "    }\n",
       "\n",
       "    .dataframe thead th {\n",
       "        text-align: right;\n",
       "    }\n",
       "</style>\n",
       "<table border=\"1\" class=\"dataframe\">\n",
       "  <thead>\n",
       "    <tr style=\"text-align: right;\">\n",
       "      <th></th>\n",
       "      <th>Year</th>\n",
       "      <th>Selling_Price</th>\n",
       "      <th>Present_Price</th>\n",
       "      <th>Kms_Driven</th>\n",
       "      <th>Owner</th>\n",
       "    </tr>\n",
       "  </thead>\n",
       "  <tbody>\n",
       "    <tr>\n",
       "      <th>count</th>\n",
       "      <td>299.0</td>\n",
       "      <td>299.0</td>\n",
       "      <td>299.0</td>\n",
       "      <td>299.0</td>\n",
       "      <td>299.0</td>\n",
       "    </tr>\n",
       "    <tr>\n",
       "      <th>mean</th>\n",
       "      <td>2014.0</td>\n",
       "      <td>5.0</td>\n",
       "      <td>8.0</td>\n",
       "      <td>36917.0</td>\n",
       "      <td>0.0</td>\n",
       "    </tr>\n",
       "    <tr>\n",
       "      <th>std</th>\n",
       "      <td>3.0</td>\n",
       "      <td>5.0</td>\n",
       "      <td>9.0</td>\n",
       "      <td>39015.0</td>\n",
       "      <td>0.0</td>\n",
       "    </tr>\n",
       "    <tr>\n",
       "      <th>min</th>\n",
       "      <td>2003.0</td>\n",
       "      <td>0.0</td>\n",
       "      <td>0.0</td>\n",
       "      <td>500.0</td>\n",
       "      <td>0.0</td>\n",
       "    </tr>\n",
       "    <tr>\n",
       "      <th>25%</th>\n",
       "      <td>2012.0</td>\n",
       "      <td>1.0</td>\n",
       "      <td>1.0</td>\n",
       "      <td>15000.0</td>\n",
       "      <td>0.0</td>\n",
       "    </tr>\n",
       "    <tr>\n",
       "      <th>50%</th>\n",
       "      <td>2014.0</td>\n",
       "      <td>4.0</td>\n",
       "      <td>6.0</td>\n",
       "      <td>32000.0</td>\n",
       "      <td>0.0</td>\n",
       "    </tr>\n",
       "    <tr>\n",
       "      <th>75%</th>\n",
       "      <td>2016.0</td>\n",
       "      <td>6.0</td>\n",
       "      <td>10.0</td>\n",
       "      <td>48884.0</td>\n",
       "      <td>0.0</td>\n",
       "    </tr>\n",
       "    <tr>\n",
       "      <th>max</th>\n",
       "      <td>2018.0</td>\n",
       "      <td>35.0</td>\n",
       "      <td>93.0</td>\n",
       "      <td>500000.0</td>\n",
       "      <td>3.0</td>\n",
       "    </tr>\n",
       "  </tbody>\n",
       "</table>\n",
       "</div>"
      ],
      "text/plain": [
       "         Year  Selling_Price  Present_Price  Kms_Driven  Owner\n",
       "count   299.0          299.0          299.0       299.0  299.0\n",
       "mean   2014.0            5.0            8.0     36917.0    0.0\n",
       "std       3.0            5.0            9.0     39015.0    0.0\n",
       "min    2003.0            0.0            0.0       500.0    0.0\n",
       "25%    2012.0            1.0            1.0     15000.0    0.0\n",
       "50%    2014.0            4.0            6.0     32000.0    0.0\n",
       "75%    2016.0            6.0           10.0     48884.0    0.0\n",
       "max    2018.0           35.0           93.0    500000.0    3.0"
      ]
     },
     "execution_count": 11,
     "metadata": {},
     "output_type": "execute_result"
    }
   ],
   "source": [
    "df.describe().round()"
   ]
  },
  {
   "cell_type": "code",
   "execution_count": 12,
   "id": "5f6eade0",
   "metadata": {},
   "outputs": [
    {
     "data": {
      "text/plain": [
       "Car_Name         0\n",
       "Year             0\n",
       "Selling_Price    0\n",
       "Present_Price    0\n",
       "Kms_Driven       0\n",
       "Fuel_Type        0\n",
       "Seller_Type      0\n",
       "Transmission     0\n",
       "Owner            0\n",
       "dtype: int64"
      ]
     },
     "execution_count": 12,
     "metadata": {},
     "output_type": "execute_result"
    }
   ],
   "source": [
    "df.isna().sum()"
   ]
  },
  {
   "cell_type": "code",
   "execution_count": 13,
   "id": "41792019",
   "metadata": {
    "scrolled": true
   },
   "outputs": [
    {
     "data": {
      "text/plain": [
       "<AxesSubplot:>"
      ]
     },
     "execution_count": 13,
     "metadata": {},
     "output_type": "execute_result"
    },
    {
     "data": {
      "image/png": "[encoded data removed]",
      "text/plain": [
       "<Figure size 432x288 with 2 Axes>"
      ]
     },
     "metadata": {
      "needs_background": "light"
     },
     "output_type": "display_data"
    }
   ],
   "source": [
    "sns.heatmap(df.isna())"
   ]
  },
  {
   "cell_type": "code",
   "execution_count": 14,
   "id": "b4193eff",
   "metadata": {},
   "outputs": [
    {
     "data": {
      "text/plain": [
       "city                        26\n",
       "corolla altis               16\n",
       "verna                       14\n",
       "fortuner                    10\n",
       "brio                        10\n",
       "                            ..\n",
       "Royal Enfield Bullet 350     1\n",
       "Hero  CBZ Xtreme             1\n",
       "Mahindra Mojo XT300          1\n",
       "Honda Activa 125             1\n",
       "Yamaha Fazer                 1\n",
       "Name: Car_Name, Length: 98, dtype: int64"
      ]
     },
     "execution_count": 14,
     "metadata": {},
     "output_type": "execute_result"
    }
   ],
   "source": [
    "df['Car_Name'].value_counts()"
   ]
  },
  {
   "cell_type": "code",
   "execution_count": 15,
   "id": "6b25fa5a",
   "metadata": {},
   "outputs": [
    {
     "data": {
      "text/plain": [
       "<BarContainer object of 11 artists>"
      ]
     },
     "execution_count": 15,
     "metadata": {},
     "output_type": "execute_result"
    },
    {
     "data": {
      "image/png": "[encoded data removed]",
      "text/plain": [
       "<Figure size 1440x648 with 1 Axes>"
      ]
     },
     "metadata": {
      "needs_background": "light"
     },
     "output_type": "display_data"
    }
   ],
   "source": [
    "name=df['Car_Name'].value_counts().index[:11]\n",
    "value=df['Car_Name'].value_counts().values[:11]\n",
    "plt.figure(figsize=(20,9))\n",
    "plt.title('car name ')\n",
    "plt.bar(name,value,linewidth=0.4,color='red',width=0.7)"
   ]
  },
  {
   "cell_type": "code",
   "execution_count": 16,
   "id": "2227d010",
   "metadata": {},
   "outputs": [
    {
     "data": {
      "text/plain": [
       "0      2014\n",
       "1      2013\n",
       "2      2017\n",
       "3      2011\n",
       "4      2014\n",
       "       ... \n",
       "294    2016\n",
       "295    2015\n",
       "296    2009\n",
       "297    2017\n",
       "298    2016\n",
       "Name: Year, Length: 299, dtype: int64"
      ]
     },
     "execution_count": 16,
     "metadata": {},
     "output_type": "execute_result"
    }
   ],
   "source": [
    "df['Year']"
   ]
  },
  {
   "cell_type": "code",
   "execution_count": 17,
   "id": "e2b7a279",
   "metadata": {},
   "outputs": [
    {
     "data": {
      "text/plain": [
       "<AxesSubplot:>"
      ]
     },
     "execution_count": 17,
     "metadata": {},
     "output_type": "execute_result"
    },
    {
     "data": {
      "image/png": "[encoded data removed]",
      "text/plain": [
       "<Figure size 720x432 with 1 Axes>"
      ]
     },
     "metadata": {
      "needs_background": "light"
     },
     "output_type": "display_data"
    }
   ],
   "source": [
    "plt.figure(figsize=(10,6))\n",
    "df['Year'].value_counts().sort_index().plot()"
   ]
  },
  {
   "cell_type": "code",
   "execution_count": 18,
   "id": "61155bde",
   "metadata": {},
   "outputs": [
    {
     "data": {
      "text/plain": [
       "<BarContainer object of 11 artists>"
      ]
     },
     "execution_count": 18,
     "metadata": {},
     "output_type": "execute_result"
    },
    {
     "data": {
      "image/png": "[encoded data removed]",
      "text/plain": [
       "<Figure size 1440x648 with 1 Axes>"
      ]
     },
     "metadata": {
      "needs_background": "light"
     },
     "output_type": "display_data"
    }
   ],
   "source": [
    "name=df['Year'].value_counts().index[:11]\n",
    "value=df['Year'].value_counts().values[:11]\n",
    "plt.figure(figsize=(20,9))\n",
    "plt.title('sales of the year ')\n",
    "plt.bar(name,value,width=0.7,color='purple')"
   ]
  },
  {
   "cell_type": "code",
   "execution_count": 19,
   "id": "5db99b9e",
   "metadata": {},
   "outputs": [],
   "source": [
    "cor=df.corr()"
   ]
  },
  {
   "cell_type": "code",
   "execution_count": 20,
   "id": "3344a30a",
   "metadata": {
    "scrolled": true
   },
   "outputs": [
    {
     "data": {
      "text/plain": [
       "<AxesSubplot:>"
      ]
     },
     "execution_count": 20,
     "metadata": {},
     "output_type": "execute_result"
    },
    {
     "data": {
      "image/png": "[encoded data removed]",
      "text/plain": [
       "<Figure size 720x432 with 2 Axes>"
      ]
     },
     "metadata": {
      "needs_background": "light"
     },
     "output_type": "display_data"
    }
   ],
   "source": [
    "plt.figure(figsize=(10,6))\n",
    "sns.heatmap(df.corr(),annot=True,fmt='.1f',cmap='Reds')"
   ]
  },
  {
   "cell_type": "code",
   "execution_count": 21,
   "id": "42c9312e",
   "metadata": {},
   "outputs": [
    {
     "data": {
      "text/plain": [
       "Petrol    239\n",
       "Diesel     58\n",
       "CNG         2\n",
       "Name: Fuel_Type, dtype: int64"
      ]
     },
     "execution_count": 21,
     "metadata": {},
     "output_type": "execute_result"
    }
   ],
   "source": [
    "df['Fuel_Type'].value_counts()"
   ]
  },
  {
   "cell_type": "code",
   "execution_count": 22,
   "id": "69a06fda",
   "metadata": {},
   "outputs": [
    {
     "data": {
      "text/plain": [
       "<AxesSubplot:xlabel='Fuel_Type', ylabel='count'>"
      ]
     },
     "execution_count": 22,
     "metadata": {},
     "output_type": "execute_result"
    },
    {
     "data": {
      "image/png": "[encoded data removed]",
      "text/plain": [
       "<Figure size 432x288 with 1 Axes>"
      ]
     },
     "metadata": {
      "needs_background": "light"
     },
     "output_type": "display_data"
    }
   ],
   "source": [
    "sns.countplot(data=df,x='Fuel_Type')"
   ]
  },
  {
   "cell_type": "code",
   "execution_count": 23,
   "id": "99874e3e",
   "metadata": {},
   "outputs": [
    {
     "data": {
      "text/plain": [
       "Dealer        193\n",
       "Individual    106\n",
       "Name: Seller_Type, dtype: int64"
      ]
     },
     "execution_count": 23,
     "metadata": {},
     "output_type": "execute_result"
    }
   ],
   "source": [
    "df['Seller_Type'].value_counts()"
   ]
  },
  {
   "cell_type": "code",
   "execution_count": 24,
   "id": "a8ec15fe",
   "metadata": {},
   "outputs": [
    {
     "data": {
      "text/plain": [
       "<AxesSubplot:xlabel='Seller_Type', ylabel='count'>"
      ]
     },
     "execution_count": 24,
     "metadata": {},
     "output_type": "execute_result"
    },
    {
     "data": {
      "image/png": "[encoded data removed]",
      "text/plain": [
       "<Figure size 432x288 with 1 Axes>"
      ]
     },
     "metadata": {
      "needs_background": "light"
     },
     "output_type": "display_data"
    }
   ],
   "source": [
    "sns.countplot(data=df,x='Seller_Type',palette=['g','r'])"
   ]
  },
  {
   "cell_type": "code",
   "execution_count": 25,
   "id": "d9e6d6db",
   "metadata": {},
   "outputs": [
    {
     "data": {
      "text/plain": [
       "Manual       260\n",
       "Automatic     39\n",
       "Name: Transmission, dtype: int64"
      ]
     },
     "execution_count": 25,
     "metadata": {},
     "output_type": "execute_result"
    }
   ],
   "source": [
    "df['Transmission'].value_counts()"
   ]
  },
  {
   "cell_type": "code",
   "execution_count": 26,
   "id": "72295d31",
   "metadata": {},
   "outputs": [
    {
     "data": {
      "text/plain": [
       "<AxesSubplot:ylabel='Transmission'>"
      ]
     },
     "execution_count": 26,
     "metadata": {},
     "output_type": "execute_result"
    },
    {
     "data": {
      "image/png": "[encoded data removed]",
      "text/plain": [
       "<Figure size 432x288 with 1 Axes>"
      ]
     },
     "metadata": {},
     "output_type": "display_data"
    }
   ],
   "source": [
    "df['Transmission'].value_counts().plot.pie(autopct='%.0f%%')"
   ]
  },
  {
   "cell_type": "code",
   "execution_count": 27,
   "id": "7ef8d167",
   "metadata": {},
   "outputs": [
    {
     "data": {
      "image/png": "[encoded data removed]",
      "text/plain": [
       "<Figure size 1440x1152 with 6 Axes>"
      ]
     },
     "metadata": {
      "needs_background": "light"
     },
     "output_type": "display_data"
    }
   ],
   "source": [
    "df.hist(figsize=(20,16))\n",
    "plt.show()"
   ]
  },
  {
   "cell_type": "code",
   "execution_count": 28,
   "id": "8e670858",
   "metadata": {},
   "outputs": [],
   "source": [
    "df.drop(['Fuel_Type','Seller_Type','Transmission','Car_Name'],axis=1,inplace=True)"
   ]
  },
  {
   "cell_type": "code",
   "execution_count": 29,
   "id": "f8d6110d",
   "metadata": {},
   "outputs": [],
   "source": [
    "df=pd.get_dummies(df)"
   ]
  },
  {
   "cell_type": "markdown",
   "id": "1a010c20",
   "metadata": {},
   "source": [
    "# Model"
   ]
  },
  {
   "cell_type": "code",
   "execution_count": 30,
   "id": "f3138e52",
   "metadata": {},
   "outputs": [],
   "source": [
    "X=df.drop('Selling_Price',axis=1)\n",
    "y=df['Selling_Price']"
   ]
  },
  {
   "cell_type": "code",
   "execution_count": 31,
   "id": "4f0ee846",
   "metadata": {},
   "outputs": [
    {
     "data": {
      "text/html": [
       "<div>\n",
       "<style scoped>\n",
       "    .dataframe tbody tr th:only-of-type {\n",
       "        vertical-align: middle;\n",
       "    }\n",
       "\n",
       "    .dataframe tbody tr th {\n",
       "        vertical-align: top;\n",
       "    }\n",
       "\n",
       "    .dataframe thead th {\n",
       "        text-align: right;\n",
       "    }\n",
       "</style>\n",
       "<table border=\"1\" class=\"dataframe\">\n",
       "  <thead>\n",
       "    <tr style=\"text-align: right;\">\n",
       "      <th></th>\n",
       "      <th>Year</th>\n",
       "      <th>Present_Price</th>\n",
       "      <th>Kms_Driven</th>\n",
       "      <th>Owner</th>\n",
       "    </tr>\n",
       "  </thead>\n",
       "  <tbody>\n",
       "    <tr>\n",
       "      <th>0</th>\n",
       "      <td>2014</td>\n",
       "      <td>5.59</td>\n",
       "      <td>27000</td>\n",
       "      <td>0</td>\n",
       "    </tr>\n",
       "    <tr>\n",
       "      <th>1</th>\n",
       "      <td>2013</td>\n",
       "      <td>9.54</td>\n",
       "      <td>43000</td>\n",
       "      <td>0</td>\n",
       "    </tr>\n",
       "    <tr>\n",
       "      <th>2</th>\n",
       "      <td>2017</td>\n",
       "      <td>9.85</td>\n",
       "      <td>6900</td>\n",
       "      <td>0</td>\n",
       "    </tr>\n",
       "    <tr>\n",
       "      <th>3</th>\n",
       "      <td>2011</td>\n",
       "      <td>4.15</td>\n",
       "      <td>5200</td>\n",
       "      <td>0</td>\n",
       "    </tr>\n",
       "    <tr>\n",
       "      <th>4</th>\n",
       "      <td>2014</td>\n",
       "      <td>6.87</td>\n",
       "      <td>42450</td>\n",
       "      <td>0</td>\n",
       "    </tr>\n",
       "    <tr>\n",
       "      <th>...</th>\n",
       "      <td>...</td>\n",
       "      <td>...</td>\n",
       "      <td>...</td>\n",
       "      <td>...</td>\n",
       "    </tr>\n",
       "    <tr>\n",
       "      <th>294</th>\n",
       "      <td>2016</td>\n",
       "      <td>11.60</td>\n",
       "      <td>33988</td>\n",
       "      <td>0</td>\n",
       "    </tr>\n",
       "    <tr>\n",
       "      <th>295</th>\n",
       "      <td>2015</td>\n",
       "      <td>5.90</td>\n",
       "      <td>60000</td>\n",
       "      <td>0</td>\n",
       "    </tr>\n",
       "    <tr>\n",
       "      <th>296</th>\n",
       "      <td>2009</td>\n",
       "      <td>11.00</td>\n",
       "      <td>87934</td>\n",
       "      <td>0</td>\n",
       "    </tr>\n",
       "    <tr>\n",
       "      <th>297</th>\n",
       "      <td>2017</td>\n",
       "      <td>12.50</td>\n",
       "      <td>9000</td>\n",
       "      <td>0</td>\n",
       "    </tr>\n",
       "    <tr>\n",
       "      <th>298</th>\n",
       "      <td>2016</td>\n",
       "      <td>5.90</td>\n",
       "      <td>5464</td>\n",
       "      <td>0</td>\n",
       "    </tr>\n",
       "  </tbody>\n",
       "</table>\n",
       "<p>299 rows × 4 columns</p>\n",
       "</div>"
      ],
      "text/plain": [
       "     Year  Present_Price  Kms_Driven  Owner\n",
       "0    2014           5.59       27000      0\n",
       "1    2013           9.54       43000      0\n",
       "2    2017           9.85        6900      0\n",
       "3    2011           4.15        5200      0\n",
       "4    2014           6.87       42450      0\n",
       "..    ...            ...         ...    ...\n",
       "294  2016          11.60       33988      0\n",
       "295  2015           5.90       60000      0\n",
       "296  2009          11.00       87934      0\n",
       "297  2017          12.50        9000      0\n",
       "298  2016           5.90        5464      0\n",
       "\n",
       "[299 rows x 4 columns]"
      ]
     },
     "execution_count": 31,
     "metadata": {},
     "output_type": "execute_result"
    }
   ],
   "source": [
    "X"
   ]
  },
  {
   "cell_type": "code",
   "execution_count": 32,
   "id": "3cab6479",
   "metadata": {
    "scrolled": false
   },
   "outputs": [
    {
     "data": {
      "text/plain": [
       "0       3.35\n",
       "1       4.75\n",
       "2       7.25\n",
       "3       2.85\n",
       "4       4.60\n",
       "       ...  \n",
       "294     9.50\n",
       "295     4.00\n",
       "296     3.35\n",
       "297    11.50\n",
       "298     5.30\n",
       "Name: Selling_Price, Length: 299, dtype: float64"
      ]
     },
     "execution_count": 32,
     "metadata": {},
     "output_type": "execute_result"
    }
   ],
   "source": [
    "y"
   ]
  },
  {
   "cell_type": "code",
   "execution_count": 46,
   "id": "e9ce0135",
   "metadata": {},
   "outputs": [],
   "source": [
    "from sklearn.preprocessing import StandardScaler"
   ]
  },
  {
   "cell_type": "code",
   "execution_count": 47,
   "id": "dd0617a0",
   "metadata": {},
   "outputs": [],
   "source": [
    "sc=StandardScaler()"
   ]
  },
  {
   "cell_type": "code",
   "execution_count": 48,
   "id": "50759fdc",
   "metadata": {},
   "outputs": [
    {
     "data": {
      "text/plain": [
       "array([[ 1.11819461e+00, -6.27985773e-01, -1.13542136e+00,\n",
       "        -1.90445347e-01],\n",
       "       [ 8.12289745e-02, -6.31051564e-02,  1.28176835e+00,\n",
       "        -1.90445347e-01],\n",
       "       [ 8.12289745e-02,  1.68101246e-02,  1.73601145e-01,\n",
       "        -1.90445347e-01],\n",
       "       [ 4.26884185e-01, -7.24322003e-01,  1.59749055e-01,\n",
       "        -1.90445347e-01],\n",
       "       [-9.55736658e-01, -7.12717866e-01, -9.69196283e-01,\n",
       "        -1.90445347e-01],\n",
       "       [-9.55736658e-01, -2.99566810e-01, -3.97208855e-01,\n",
       "        -1.90445347e-01],\n",
       "       [-2.64426236e-01, -6.42217262e-01, -3.41802053e-02,\n",
       "        -1.90445347e-01],\n",
       "       [-1.30139187e+00,  7.04518887e-02,  2.58168155e-01,\n",
       "        -1.90445347e-01],\n",
       "       [ 7.72539396e-01, -7.50595520e-01,  5.54533621e-01,\n",
       "        -1.90445347e-01],\n",
       "       [-2.64426236e-01,  1.23414975e+00,  3.81382496e-01,\n",
       "        -1.90445347e-01],\n",
       "       [ 8.12289745e-02, -7.14469434e-01,  2.77491821e-01,\n",
       "        -1.90445347e-01],\n",
       "       [-1.30139187e+00,  2.80640025e-01,  1.38970920e-01,\n",
       "        -1.90445347e-01],\n",
       "       [-6.10081447e-01,  7.01016298e-01,  7.62314972e-01,\n",
       "        -1.90445347e-01],\n",
       "       [-2.64426236e-01, -2.99566810e-01, -1.38070881e-01,\n",
       "        -1.90445347e-01],\n",
       "       [-6.10081447e-01, -7.14469434e-01, -5.19003357e-01,\n",
       "        -1.90445347e-01],\n",
       "       [-2.64426236e-01, -1.79146523e-01,  6.58424297e-01,\n",
       "        -1.90445347e-01],\n",
       "       [ 1.11819461e+00, -6.99143215e-01, -1.13195834e+00,\n",
       "        -1.90445347e-01],\n",
       "       [ 7.72539396e-01, -7.15564164e-01, -4.84373132e-01,\n",
       "        -1.90445347e-01],\n",
       "       [ 8.12289745e-02, -7.06806325e-01, -8.99935833e-01,\n",
       "        -1.90445347e-01],\n",
       "       [ 1.11819461e+00, -2.26001510e-02, -7.44827054e-01,\n",
       "        -1.90445347e-01],\n",
       "       [ 4.26884185e-01, -7.27393267e-03,  2.26723911e-01,\n",
       "        -1.90445347e-01],\n",
       "       [ 4.26884185e-01, -1.79146523e-01, -1.02141866e+00,\n",
       "        -1.90445347e-01],\n",
       "       [-1.99270229e+00, -7.21037813e-01, -2.76591781e-01,\n",
       "         5.25085027e+00],\n",
       "       [-2.64426236e-01, -7.39648221e-01, -1.38070881e-01,\n",
       "        -1.90445347e-01],\n",
       "       [ 4.26884185e-01, -6.99143215e-01, -6.02115897e-01,\n",
       "        -1.90445347e-01],\n",
       "       [ 8.12289745e-02,  2.80640025e-01,  4.85273171e-01,\n",
       "        -1.90445347e-01],\n",
       "       [-3.72097834e+00,  7.04518887e-02,  9.70096322e-01,\n",
       "        -1.90445347e-01],\n",
       "       [ 7.72539396e-01, -7.15564164e-01, -9.34566058e-01,\n",
       "        -1.90445347e-01],\n",
       "       [ 4.26884185e-01, -7.68111198e-01,  3.50802449e-02,\n",
       "        -1.90445347e-01],\n",
       "       [ 4.26884185e-01, -7.44027140e-01, -6.92154482e-01,\n",
       "        -1.90445347e-01],\n",
       "       [ 7.72539396e-01, -1.79146523e-01, -1.05601426e+00,\n",
       "         5.25085027e+00],\n",
       "       [ 4.26884185e-01, -6.42217262e-01, -5.88263807e-01,\n",
       "        -1.90445347e-01],\n",
       "       [ 8.12289745e-02, -3.68316394e-02,  3.50802449e-02,\n",
       "        -1.90445347e-01],\n",
       "       [-2.64426236e-01, -5.95143877e-01, -9.89974418e-01,\n",
       "        -1.90445347e-01],\n",
       "       [-2.64426236e-01, -1.57251926e-01, -8.37601428e-01,\n",
       "        -1.90445347e-01],\n",
       "       [ 7.72539396e-01,  6.85690080e-01, -1.11994321e-01,\n",
       "        -1.90445347e-01],\n",
       "       [ 4.26884185e-01,  2.25903531e-01,  9.48660213e-01,\n",
       "        -1.90445347e-01],\n",
       "       [ 8.12289745e-02, -7.46216600e-01, -5.19003357e-01,\n",
       "        -1.90445347e-01],\n",
       "       [ 1.11819461e+00,  2.75166376e-01, -9.38029080e-01,\n",
       "        -1.90445347e-01],\n",
       "       [ 4.26884185e-01, -5.95143877e-01, -6.92154482e-01,\n",
       "        -1.90445347e-01],\n",
       "       [-1.30139187e+00, -6.88195917e-01,  6.19926031e+00,\n",
       "        -1.90445347e-01],\n",
       "       [ 7.72539396e-01, -7.40742951e-01, -3.45852231e-01,\n",
       "        -1.90445347e-01],\n",
       "       [ 7.72539396e-01, -6.75059158e-01, -9.69196283e-01,\n",
       "        -1.90445347e-01],\n",
       "       [-6.10081447e-01, -2.99566810e-01,  6.19186693e-02,\n",
       "        -1.90445347e-01],\n",
       "       [ 7.72539396e-01, -1.49588817e-01, -9.83048373e-01,\n",
       "        -1.90445347e-01],\n",
       "       [ 1.11819461e+00, -7.11185244e-01, -1.00382651e+00,\n",
       "        -1.90445347e-01],\n",
       "       [ 4.26884185e-01, -5.87262369e-02,  6.97104700e-02,\n",
       "        -1.90445347e-01],\n",
       "       [-6.10081447e-01, -1.48494087e-01,  6.04366515e-01,\n",
       "        -1.90445347e-01],\n",
       "       [-3.02966792e+00,  6.70363862e-01,  5.65127163e+00,\n",
       "        -1.90445347e-01],\n",
       "       [ 7.72539396e-01,  3.97994521e-02, -6.22824771e-01,\n",
       "        -1.90445347e-01],\n",
       "       [ 1.11819461e+00, -6.42217262e-01, -7.96045157e-01,\n",
       "        -1.90445347e-01],\n",
       "       [ 7.72539396e-01,  6.85690080e-01, -7.96737762e-01,\n",
       "        -1.90445347e-01],\n",
       "       [ 4.26884185e-01,  2.25903531e-01,  6.97104700e-02,\n",
       "        -1.90445347e-01],\n",
       "       [ 4.26884185e-01, -5.65367772e-02, -8.86535494e-02,\n",
       "        -1.90445347e-01],\n",
       "       [ 7.72539396e-01,  4.66744104e-01,  3.44570740e-05,\n",
       "        -1.90445347e-01],\n",
       "       [ 4.26884185e-01,  8.15962935e-01, -7.30247730e-01,\n",
       "        -1.90445347e-01],\n",
       "       [ 1.11819461e+00,  1.73115711e+00, -7.96045157e-01,\n",
       "        -1.90445347e-01],\n",
       "       [-9.55736658e-01, -7.40742951e-01,  3.50802449e-02,\n",
       "         5.25085027e+00],\n",
       "       [-1.30139187e+00,  9.33405612e+00,  1.52417992e+00,\n",
       "        -1.90445347e-01],\n",
       "       [-9.55736658e-01, -5.98209668e-02, -8.25239996e-02,\n",
       "        -1.90445347e-01],\n",
       "       [ 8.12289745e-02, -7.12717866e-01, -3.80482456e-01,\n",
       "        -1.90445347e-01],\n",
       "       [ 4.26884185e-01,  2.85018945e-01, -6.57524257e-01,\n",
       "        -1.90445347e-01],\n",
       "       [ 4.26884185e-01, -1.49370418e-02,  5.11834554e-01,\n",
       "        -1.90445347e-01],\n",
       "       [ 4.26884185e-01,  3.33187059e-01,  3.81382496e-01,\n",
       "        -1.90445347e-01],\n",
       "       [ 8.12289745e-02, -6.94764296e-01, -3.11222006e-01,\n",
       "        -1.90445347e-01],\n",
       "       [ 1.11819461e+00,  2.25903531e-01, -6.57489627e-01,\n",
       "        -1.90445347e-01],\n",
       "       [-2.68401271e+00,  2.88521533e-02,  5.70325004e-01,\n",
       "        -1.90445347e-01],\n",
       "       [-6.10081447e-01, -7.12279974e-01, -9.86511395e-01,\n",
       "        -1.90445347e-01],\n",
       "       [ 1.11819461e+00,  1.36113841e+00, -6.57524257e-01,\n",
       "        -1.90445347e-01],\n",
       "       [ 1.11819461e+00,  1.23743394e+00, -8.75694675e-01,\n",
       "        -1.90445347e-01],\n",
       "       [ 1.11819461e+00,  8.35886472e-02, -1.05802281e+00,\n",
       "        -1.90445347e-01],\n",
       "       [ 1.11819461e+00, -3.18177218e-01,  1.55870470e-01,\n",
       "        -1.90445347e-01],\n",
       "       [-1.99270229e+00, -2.04106912e-02,  8.31575422e-01,\n",
       "        -1.90445347e-01],\n",
       "       [-1.64704708e+00,  1.23414975e+00,  9.70096322e-01,\n",
       "        -1.90445347e-01],\n",
       "       [ 7.72539396e-01, -3.18177218e-01, -6.57524257e-01,\n",
       "        -1.90445347e-01],\n",
       "       [ 7.72539396e-01, -7.07901055e-01, -6.57524257e-01,\n",
       "        -1.90445347e-01],\n",
       "       [ 1.11819461e+00, -9.26628631e-02, -6.15967987e-01,\n",
       "        -1.90445347e-01],\n",
       "       [ 8.12289745e-02, -5.87262369e-02, -3.35222310e-02,\n",
       "        -1.90445347e-01],\n",
       "       [ 7.72539396e-01, -7.11185244e-01, -3.11222006e-01,\n",
       "        -1.90445347e-01],\n",
       "       [-2.68401271e+00, -7.21037813e-01,  2.01707192e+00,\n",
       "        -1.90445347e-01],\n",
       "       [ 8.12289745e-02, -1.91188552e-01, -2.41961556e-01,\n",
       "        -1.90445347e-01],\n",
       "       [ 4.26884185e-01,  2.91587324e-01, -5.24959755e-01,\n",
       "        -1.90445347e-01],\n",
       "       [-1.30139187e+00,  1.79048545e-02,  9.42496033e-01,\n",
       "        -1.90445347e-01],\n",
       "       [ 1.11819461e+00, -6.08280636e-01, -1.03845673e+00,\n",
       "        -1.90445347e-01],\n",
       "       [ 7.72539396e-01,  6.85690080e-01, -1.64978566e-01,\n",
       "        -1.90445347e-01],\n",
       "       [-6.10081447e-01, -2.17462069e-01,  6.81799699e-01,\n",
       "        -1.90445347e-01],\n",
       "       [ 1.11819461e+00, -7.47311330e-01, -1.13195834e+00,\n",
       "        -1.90445347e-01],\n",
       "       [ 7.72539396e-01, -5.95143877e-01, -1.07308696e+00,\n",
       "        -1.90445347e-01],\n",
       "       [-3.72097834e+00, -5.53544142e-01,  3.22106095e+00,\n",
       "        -1.90445347e-01],\n",
       "       [ 8.12289745e-02,  3.13350609e+00,  1.52417992e+00,\n",
       "        -1.90445347e-01],\n",
       "       [-6.10081447e-01, -6.94764296e-01, -7.26784707e-01,\n",
       "        -1.90445347e-01],\n",
       "       [ 7.72539396e-01, -3.18177218e-01, -7.66644096e-01,\n",
       "        -1.90445347e-01],\n",
       "       [ 4.26884185e-01, -1.79146523e-01, -2.00405286e-01,\n",
       "        -1.90445347e-01],\n",
       "       [ 8.12289745e-02, -2.26001510e-02,  4.50019775e-04,\n",
       "        -1.90445347e-01],\n",
       "       [ 4.26884185e-01,  3.33187059e-01,  5.89163846e-01,\n",
       "        -1.90445347e-01],\n",
       "       [ 4.26884185e-01, -1.57251926e-01,  9.00835872e-01,\n",
       "        -1.90445347e-01],\n",
       "       [ 1.11819461e+00, -1.68199225e-01, -5.19003357e-01,\n",
       "        -1.90445347e-01],\n",
       "       [-1.30139187e+00, -3.70724252e-01,  3.65521853e-01,\n",
       "        -1.90445347e-01],\n",
       "       [-2.64426236e-01,  2.25903531e-01,  5.19903396e-01,\n",
       "        -1.90445347e-01],\n",
       "       [ 8.12289745e-02, -5.10631278e-02,  2.93075422e-01,\n",
       "        -1.90445347e-01],\n",
       "       [-6.10081447e-01, -6.11564825e-01, -7.78730045e-01,\n",
       "        -1.90445347e-01],\n",
       "       [ 8.12289745e-02,  2.86113675e-01,  3.81382496e-01,\n",
       "        -1.90445347e-01],\n",
       "       [ 4.26884185e-01, -3.18177218e-01, -1.97565607e-01,\n",
       "        -1.90445347e-01],\n",
       "       [ 7.72539396e-01, -7.44027140e-01, -6.92154482e-01,\n",
       "        -1.90445347e-01],\n",
       "       [-6.10081447e-01,  2.25903531e-01,  9.00835872e-01,\n",
       "        -1.90445347e-01],\n",
       "       [ 4.26884185e-01,  6.85690080e-01, -3.11222006e-01,\n",
       "        -1.90445347e-01],\n",
       "       [-2.64426236e-01, -6.71774969e-01, -6.88104304e-02,\n",
       "        -1.90445347e-01],\n",
       "       [ 4.26884185e-01,  3.13350609e+00,  4.50642946e-01,\n",
       "        -1.90445347e-01],\n",
       "       [-2.64426236e-01, -7.16987312e-01, -6.22894032e-01,\n",
       "        -1.90445347e-01],\n",
       "       [ 1.11819461e+00, -7.07901055e-01, -7.96045157e-01,\n",
       "        -1.90445347e-01],\n",
       "       [ 4.26884185e-01, -1.35357328e-01, -8.86535494e-02,\n",
       "        -1.90445347e-01],\n",
       "       [ 7.72539396e-01,  1.70072308e-01, -4.74919080e-01,\n",
       "        -1.90445347e-01],\n",
       "       [-9.55736658e-01,  5.63080334e-01,  3.81382496e-01,\n",
       "        -1.90445347e-01],\n",
       "       [ 1.11819461e+00,  1.49272440e-01, -4.42816861e-01,\n",
       "        -1.90445347e-01],\n",
       "       [ 8.12289745e-02, -4.23052888e-02,  3.81382496e-01,\n",
       "        -1.90445347e-01],\n",
       "       [ 8.12289745e-02,  5.14912219e-01, -6.57524257e-01,\n",
       "        -1.90445347e-01],\n",
       "       [ 1.11819461e+00,  2.25903531e-01, -6.52641395e-01,\n",
       "        -1.90445347e-01],\n",
       "       [ 1.11819461e+00, -7.44027140e-01, -8.79157698e-01,\n",
       "        -1.90445347e-01],\n",
       "       [ 8.12289745e-02, -3.67440062e-01,  4.40461660e-01,\n",
       "        -1.90445347e-01],\n",
       "       [-1.64704708e+00, -6.11564825e-01,  2.08231370e-01,\n",
       "        -1.90445347e-01],\n",
       "       [ 4.26884185e-01,  6.85690080e-01, -3.18148051e-01,\n",
       "        -1.90445347e-01],\n",
       "       [ 8.12289745e-02,  2.25903531e-01,  3.84083653e-01,\n",
       "        -1.90445347e-01],\n",
       "       [ 1.11819461e+00, -7.47311330e-01, -1.02806767e+00,\n",
       "        -1.90445347e-01],\n",
       "       [-2.64426236e-01, -3.20366678e-01,  7.92754940e-01,\n",
       "        -1.90445347e-01],\n",
       "       [ 4.26884185e-01, -1.68199225e-01,  2.09027866e-01,\n",
       "        -1.90445347e-01],\n",
       "       [ 8.12289745e-02, -5.40407383e-01, -9.34566058e-01,\n",
       "        -1.90445347e-01],\n",
       "       [ 1.11819461e+00,  1.97637661e+00, -6.57524257e-01,\n",
       "        -1.90445347e-01],\n",
       "       [ 4.26884185e-01, -1.79146523e-01, -4.45414128e-01,\n",
       "        -1.90445347e-01],\n",
       "       [ 1.11819461e+00, -1.79146523e-01, -4.80425286e-01,\n",
       "        -1.90445347e-01],\n",
       "       [ 7.72539396e-01,  5.84098600e-02, -3.27705993e-01,\n",
       "        -1.90445347e-01],\n",
       "       [-6.10081447e-01,  2.25903531e-01, -5.76594979e-02,\n",
       "        -1.90445347e-01],\n",
       "       [ 7.72539396e-01,  1.16430544e-01, -7.61414932e-01,\n",
       "        -1.90445347e-01],\n",
       "       [ 7.72539396e-01,  6.16940496e-02, -1.87626733e-01,\n",
       "        -1.90445347e-01],\n",
       "       [-1.30139187e+00, -5.98209668e-02,  8.31575422e-01,\n",
       "         5.25085027e+00],\n",
       "       [-1.64704708e+00, -1.38423119e-02,  1.50433680e+00,\n",
       "        -1.90445347e-01],\n",
       "       [ 4.26884185e-01,  4.08941820e-02, -2.81093710e-01,\n",
       "        -1.90445347e-01],\n",
       "       [ 7.72539396e-01,  1.97637661e+00, -1.72701106e-01,\n",
       "        -1.90445347e-01],\n",
       "       [ 4.26884185e-01, -3.68316394e-02,  2.09131756e-01,\n",
       "        -1.90445347e-01],\n",
       "       [-6.10081447e-01, -5.98209668e-02,  6.28365261e-01,\n",
       "        -1.90445347e-01],\n",
       "       [ 8.12289745e-02, -5.87262369e-02, -6.05578919e-01,\n",
       "        -1.90445347e-01],\n",
       "       [-9.55736658e-01, -2.99566810e-01,  6.74354200e-01,\n",
       "        -1.90445347e-01],\n",
       "       [-1.30139187e+00, -6.99143215e-01, -2.41961556e-01,\n",
       "        -1.90445347e-01],\n",
       "       [-6.10081447e-01, -5.08660217e-01,  5.54533621e-01,\n",
       "        -1.90445347e-01],\n",
       "       [-6.10081447e-01,  2.25903531e-01,  6.97104700e-02,\n",
       "        -1.90445347e-01],\n",
       "       [ 4.26884185e-01, -7.11185244e-01,  8.31575422e-01,\n",
       "        -1.90445347e-01],\n",
       "       [-2.33835750e+00, -7.21037813e-01,  5.19903396e-01,\n",
       "         5.25085027e+00],\n",
       "       [ 8.12289745e-02,  2.88521533e-02,  1.51143600e+00,\n",
       "        -1.90445347e-01],\n",
       "       [-2.64426236e-01,  2.80640025e-01,  7.86590760e-01,\n",
       "        -1.90445347e-01],\n",
       "       [-9.55736658e-01, -3.48829655e-01, -9.96900463e-01,\n",
       "        -1.90445347e-01],\n",
       "       [-2.64426236e-01, -6.38933072e-01, -6.57524257e-01,\n",
       "        -1.90445347e-01],\n",
       "       [-3.02966792e+00,  3.14576651e-01,  1.93974263e+00,\n",
       "        -1.90445347e-01],\n",
       "       [ 4.26884185e-01, -7.22132543e-01, -1.00382651e+00,\n",
       "        -1.90445347e-01],\n",
       "       [-2.64426236e-01,  2.41229750e-01,  3.12122046e-01,\n",
       "        -1.90445347e-01],\n",
       "       [ 7.72539396e-01, -6.99143215e-01, -1.15966252e+00,\n",
       "        -1.90445347e-01],\n",
       "       [ 4.26884185e-01, -5.43691573e-01, -4.25501749e-01,\n",
       "        -1.90445347e-01],\n",
       "       [-6.10081447e-01,  2.54782560e+00,  2.44904935e+00,\n",
       "        -1.90445347e-01],\n",
       "       [ 7.72539396e-01, -7.44027140e-01, -1.15966252e+00,\n",
       "        -1.90445347e-01],\n",
       "       [ 4.26884185e-01,  5.62204002e-02,  2.08231370e-01,\n",
       "        -1.90445347e-01],\n",
       "       [ 4.26884185e-01, -1.79146523e-01,  2.80503092e-02,\n",
       "        -1.90445347e-01],\n",
       "       [-9.55736658e-01,  4.41783716e-02,  5.54464361e-01,\n",
       "        -1.90445347e-01],\n",
       "       [-3.02966792e+00,  6.96637379e-01,  1.42028925e+00,\n",
       "        -1.90445347e-01],\n",
       "       [-2.64426236e-01,  2.54782560e+00,  3.49810275e+00,\n",
       "        -1.90445347e-01],\n",
       "       [ 7.72539396e-01,  2.88521533e-02, -9.34566058e-01,\n",
       "        -1.90445347e-01],\n",
       "       [ 4.26884185e-01,  4.08941820e-02, -2.76591781e-01,\n",
       "        -1.90445347e-01],\n",
       "       [ 8.12289745e-02, -6.31051564e-02,  2.08231370e-01,\n",
       "        -1.90445347e-01],\n",
       "       [-2.64426236e-01, -7.23227273e-01, -7.61414932e-01,\n",
       "        -1.90445347e-01],\n",
       "       [ 4.26884185e-01,  6.29858856e-01,  9.03467769e-01,\n",
       "        -1.90445347e-01],\n",
       "       [ 8.12289745e-02, -6.71774969e-01, -3.63167344e-01,\n",
       "        -1.90445347e-01],\n",
       "       [ 4.26884185e-01,  6.85690080e-01,  4.50019775e-04,\n",
       "        -1.90445347e-01],\n",
       "       [-6.10081447e-01,  2.25903531e-01,  1.28176835e+00,\n",
       "        -1.90445347e-01],\n",
       "       [-1.64704708e+00,  8.43331182e-01,  1.24713812e+00,\n",
       "        -1.90445347e-01],\n",
       "       [ 4.26884185e-01,  2.54782560e+00,  2.08231370e-01,\n",
       "        -1.90445347e-01],\n",
       "       [-9.55736658e-01, -6.88195917e-01, -1.38070881e-01,\n",
       "        -1.90445347e-01],\n",
       "       [-6.10081447e-01, -7.40742951e-01, -3.11222006e-01,\n",
       "         5.25085027e+00],\n",
       "       [ 1.11819461e+00,  5.65269793e-01, -8.65305608e-01,\n",
       "        -1.90445347e-01],\n",
       "       [-3.02966792e+00, -7.40742951e-01,  7.27684747e-01,\n",
       "        -1.90445347e-01],\n",
       "       [ 4.26884185e-01, -7.42932411e-01, -9.44955125e-01,\n",
       "        -1.90445347e-01],\n",
       "       [ 8.12289745e-02,  3.13350609e+00,  2.42861595e-01,\n",
       "        -1.90445347e-01],\n",
       "       [ 1.11819461e+00,  2.13861503e-01,  1.04340695e-01,\n",
       "        -1.90445347e-01],\n",
       "       [ 4.26884185e-01,  6.85690080e-01,  1.17787767e+00,\n",
       "        -1.90445347e-01],\n",
       "       [-2.64426236e-01,  2.80640025e-01,  7.01435036e-01,\n",
       "        -1.90445347e-01],\n",
       "       [-9.55736658e-01,  7.37360783e-02,  5.54533621e-01,\n",
       "        -1.90445347e-01],\n",
       "       [-6.10081447e-01, -6.94764296e-01, -6.74839370e-01,\n",
       "        -1.90445347e-01],\n",
       "       [ 7.72539396e-01,  1.16430544e-01, -1.03845673e+00,\n",
       "        -1.90445347e-01],\n",
       "       [-2.64426236e-01, -7.31985112e-01, -3.45852231e-01,\n",
       "         5.25085027e+00],\n",
       "       [ 8.12289745e-02, -3.68316394e-02,  7.15805021e-02,\n",
       "        -1.90445347e-01],\n",
       "       [ 7.72539396e-01, -7.42932411e-01, -1.03440656e-01,\n",
       "        -1.90445347e-01],\n",
       "       [ 1.11819461e+00, -6.99143215e-01, -1.05577185e+00,\n",
       "        -1.90445347e-01],\n",
       "       [-2.64426236e-01, -6.94764296e-01,  3.81382496e-01,\n",
       "        -1.90445347e-01],\n",
       "       [ 1.11819461e+00, -6.03901716e-01, -1.12849532e+00,\n",
       "        -1.90445347e-01],\n",
       "       [-2.64426236e-01, -1.40830978e-01,  4.50642946e-01,\n",
       "        -1.90445347e-01],\n",
       "       [ 7.72539396e-01, -3.18177218e-01, -7.44099820e-01,\n",
       "        -1.90445347e-01],\n",
       "       [-2.64426236e-01, -6.42217262e-01,  4.33327833e-01,\n",
       "        -1.90445347e-01],\n",
       "       [ 7.72539396e-01, -1.57251926e-01, -9.87758084e-01,\n",
       "        -1.90445347e-01],\n",
       "       [ 1.11819461e+00, -1.78051794e-01, -1.09386509e+00,\n",
       "        -1.90445347e-01],\n",
       "       [-1.99270229e+00, -7.21037813e-01,  9.00835872e-01,\n",
       "        -1.90445347e-01],\n",
       "       [-2.64426236e-01,  1.23414975e+00,  7.62349602e-01,\n",
       "        -1.90445347e-01],\n",
       "       [ 7.72539396e-01, -6.38933072e-01, -5.53633582e-01,\n",
       "        -1.90445347e-01],\n",
       "       [ 4.26884185e-01,  2.91587324e-01, -2.21183421e-01,\n",
       "        -1.90445347e-01],\n",
       "       [ 1.11819461e+00, -6.42217262e-01, -1.03499371e+00,\n",
       "        -1.90445347e-01]])"
      ]
     },
     "execution_count": 48,
     "metadata": {},
     "output_type": "execute_result"
    }
   ],
   "source": [
    "sc.fit_transform(X_train,y_train)"
   ]
  },
  {
   "cell_type": "code",
   "execution_count": 49,
   "id": "229f52d9",
   "metadata": {},
   "outputs": [],
   "source": [
    "from sklearn.model_selection import train_test_split"
   ]
  },
  {
   "cell_type": "code",
   "execution_count": 50,
   "id": "ca439d8f",
   "metadata": {},
   "outputs": [],
   "source": [
    "X_train, X_test, y_train, y_test = train_test_split(X, y, test_size=0.33, random_state=42)"
   ]
  },
  {
   "cell_type": "code",
   "execution_count": 51,
   "id": "146a4dfb",
   "metadata": {
    "scrolled": true
   },
   "outputs": [
    {
     "data": {
      "text/plain": [
       "((200, 4), (99, 4), (200,), (99,))"
      ]
     },
     "execution_count": 51,
     "metadata": {},
     "output_type": "execute_result"
    }
   ],
   "source": [
    "X_train.shape, X_test.shape, y_train.shape, y_test.shape"
   ]
  },
  {
   "cell_type": "code",
   "execution_count": 52,
   "id": "8182b21a",
   "metadata": {},
   "outputs": [],
   "source": [
    "from sklearn.linear_model import LinearRegression"
   ]
  },
  {
   "cell_type": "code",
   "execution_count": 53,
   "id": "973eb1cf",
   "metadata": {},
   "outputs": [],
   "source": [
    "model=LinearRegression()"
   ]
  },
  {
   "cell_type": "code",
   "execution_count": 54,
   "id": "9673c646",
   "metadata": {},
   "outputs": [
    {
     "data": {
      "text/plain": [
       "LinearRegression()"
      ]
     },
     "execution_count": 54,
     "metadata": {},
     "output_type": "execute_result"
    }
   ],
   "source": [
    "model.fit(X_train,y_train)"
   ]
  },
  {
   "cell_type": "code",
   "execution_count": 55,
   "id": "9c95ccd3",
   "metadata": {},
   "outputs": [
    {
     "data": {
      "text/plain": [
       "array([ 7.78070337,  6.56699032,  2.03156646,  5.91158365, 10.87622474,\n",
       "        4.34115666,  9.58361471,  2.5244413 ,  7.63735133,  0.05735578,\n",
       "        9.63019733, -0.5628035 , -0.5692779 ,  2.46559888,  4.98897679,\n",
       "        5.28716356,  2.25478458,  2.66447943, 20.67840496,  1.77441216,\n",
       "        1.7680973 ,  3.25533076,  5.64591554, -0.41011195,  5.04172432,\n",
       "        8.27805024,  8.09094104,  2.0927343 ,  4.84610568,  5.30611983,\n",
       "        3.94996463,  5.58816824,  5.04090339,  2.14419753,  3.00925053,\n",
       "        5.74398825,  2.08378825, -0.93540663,  2.50109294,  9.99097018,\n",
       "        8.01280085,  8.22368151,  2.39881547,  2.97884813,  1.75262922,\n",
       "       -1.80985292,  8.7135943 ,  4.16646585,  3.94455291,  0.33482597,\n",
       "        1.29802608,  0.75584536, 11.45282043,  8.7275533 ,  7.86275268,\n",
       "        5.52484548,  3.51310404,  3.49944289,  8.90818606,  9.98454281,\n",
       "        5.4785477 , -1.42902818,  0.73996293, -0.33075122,  2.12916373,\n",
       "        2.69388695,  8.74189645,  8.65552767,  2.29694785,  5.1886976 ,\n",
       "        2.63156892,  5.29007903,  6.1031292 ,  8.29756737,  0.08685592,\n",
       "        1.89737955, 15.72492716,  9.63964436,  4.4132969 , -1.27277505,\n",
       "        0.70797428,  3.791795  ,  1.22164596,  9.37220825,  9.15242907,\n",
       "        2.61021362,  2.53580972,  7.30108917,  4.02373666,  2.44891879,\n",
       "        4.2498486 , 12.43254688,  5.28081513,  3.67913683,  6.8650915 ,\n",
       "        0.34951534,  4.75265578,  3.88367577,  6.68075995])"
      ]
     },
     "execution_count": 55,
     "metadata": {},
     "output_type": "execute_result"
    }
   ],
   "source": [
    "pre=model.predict(X_test)\n",
    "pre"
   ]
  },
  {
   "cell_type": "code",
   "execution_count": 56,
   "id": "1449ee0a",
   "metadata": {},
   "outputs": [
    {
     "data": {
      "text/plain": [
       "array([ 8.99,  8.35,  0.45,  7.45,  5.25,  5.25,  5.85,  1.15,  9.25,\n",
       "        0.38,  9.65,  0.16,  0.25,  0.48,  4.1 ,  4.5 ,  0.51,  1.2 ,\n",
       "       33.  ,  0.6 ,  0.48,  1.35,  5.25,  1.05,  5.5 ,  9.7 ,  8.25,\n",
       "        1.1 ,  4.5 ,  4.8 ,  3.25,  4.75,  5.5 ,  3.  ,  2.65,  6.5 ,\n",
       "        1.11,  0.17,  1.15,  4.  ,  5.5 , 12.5 ,  1.05,  1.5 ,  0.75,\n",
       "        0.12, 11.25,  4.5 ,  4.5 ,  0.3 ,  0.55,  0.25,  2.5 , 12.9 ,\n",
       "        6.25,  4.9 ,  3.75,  4.15, 11.75,  6.95,  6.75,  0.25,  0.25,\n",
       "        0.52,  2.35,  2.5 , 10.25,  4.75,  2.  ,  5.75,  0.8 ,  6.15,\n",
       "        7.4 ,  8.5 ,  0.45,  2.55, 14.5 ,  9.25,  3.35,  0.2 ,  0.27,\n",
       "        2.85,  0.4 , 14.73, 11.25,  0.65,  2.65,  7.75,  2.85,  0.45,\n",
       "        5.25, 14.25,  5.11,  3.  ,  7.25,  1.05,  4.1 ,  3.  ,  4.35])"
      ]
     },
     "execution_count": 56,
     "metadata": {},
     "output_type": "execute_result"
    }
   ],
   "source": [
    "y_test.values"
   ]
  },
  {
   "cell_type": "code",
   "execution_count": 71,
   "id": "533f228b",
   "metadata": {},
   "outputs": [],
   "source": [
    "from sklearn.metrics import rand_score"
   ]
  },
  {
   "cell_type": "code",
   "execution_count": 72,
   "id": "9a71afc3",
   "metadata": {},
   "outputs": [
    {
     "name": "stderr",
     "output_type": "stream",
     "text": [
      "C:\\Users\\amr\\anaconda3\\lib\\site-packages\\sklearn\\metrics\\cluster\\_supervised.py:58: UserWarning: Clustering metrics expects discrete values but received continuous values for label, and continuous values for target\n",
      "  warnings.warn(msg, UserWarning)\n"
     ]
    },
    {
     "data": {
      "text/plain": [
       "0.9919604205318491"
      ]
     },
     "execution_count": 72,
     "metadata": {},
     "output_type": "execute_result"
    }
   ],
   "source": [
    "rand_score(pre,y_test)"
   ]
  },
  {
   "cell_type": "code",
   "execution_count": null,
   "id": "7e892175",
   "metadata": {},
   "outputs": [],
   "source": []
  },
  {
   "cell_type": "code",
   "execution_count": null,
   "id": "b1f425cd",
   "metadata": {},
   "outputs": [],
   "source": []
  },
  {
   "cell_type": "code",
   "execution_count": null,
   "id": "c1efaebd",
   "metadata": {},
   "outputs": [],
   "source": []
  }
 ],
 "metadata": {
  "kernelspec": {
   "display_name": "Python 3",
   "language": "python",
   "name": "python3"
  },
  "language_info": {
   "codemirror_mode": {
    "name": "ipython",
    "version": 3
   },
   "file_extension": ".py",
   "mimetype": "text/x-python",
   "name": "python",
   "nbconvert_exporter": "python",
   "pygments_lexer": "ipython3",
   "version": "3.8.8"
  }
 },
 "nbformat": 4,
 "nbformat_minor": 5
}
